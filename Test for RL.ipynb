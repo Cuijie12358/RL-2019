{
 "cells": [
  {
   "cell_type": "markdown",
   "metadata": {},
   "source": [
    "# Multi Armed Bandit Problem"
   ]
  },
  {
   "cell_type": "markdown",
   "metadata": {},
   "source": [
    "The detailed explanation of this problem can been seen in the charpter 2 of [Reinforcement Learning: An Introduction (2nd edition)](http://incompleteideas.net/book/the-book-2nd.html)."
   ]
  },
  {
   "cell_type": "markdown",
   "metadata": {},
   "source": [
    "## Some definitions about variables "
   ]
  },
  {
   "cell_type": "markdown",
   "metadata": {},
   "source": [
    "### Action-value Methods\n",
    "Expected reward of selecting $\\textbf{a}$ as the action:   \n",
    "$$q_*(a)=E[R_t\\mid A_t=a]$$    \n",
    "The value of action $\\textbf{a}$ in the step t:    \n",
    "$$Q_t(a)=\\frac{\\sum_{i=1}^{t-1}{R_iI_{A_i=a}}}{\\sum_{i=1}^{t-1}{I_{A_i=a}}}=\\frac{\\text{sum of the rewards when taken $\\textbf{a}$ prior to t}}{\\text{sum of times taken $\\textbf{a}$ prior to t}}$$     \n",
    "$$\\begin{equation}\n",
    "I_{A_i=a}=\\begin{cases}\n",
    "1,&\\text{if taken $\\textbf{a}$ in step i} \\cr 0,&\\text{else}\n",
    "\\end{cases}\n",
    "\\end{equation}$$\n"
   ]
  },
  {
   "cell_type": "markdown",
   "metadata": {},
   "source": [
    "### $\\epsilon$-Greedy Action Selection\n",
    "We want to maximize the $Q_t(a)$ because when step t goes to infinity, the value of action $\\textbf{a}$ will be close to the expexted reward.    \n",
    "Greedy action selection:\n",
    "$$A_t=A_t^*=\\underset{a}{argmax{Q_t(a)}}$$\n",
    "$\\epsilon$-Greedy Action Selection:   \n",
    "$$\\begin{equation}\n",
    "A_{t}=\\begin{cases}\n",
    "A_t^*,&\\text{with probability $1-\\epsilon$} \\\\ \\text{random action},&\\epsilon\n",
    "\\end{cases}\n",
    "\\end{equation}$$\n",
    "\n"
   ]
  },
  {
   "cell_type": "markdown",
   "metadata": {},
   "source": [
    "### 10-Armed Bandit Testbed\n",
    "We set the environment and the agent for this test."
   ]
  },
  {
   "cell_type": "code",
   "execution_count": 1,
   "metadata": {},
   "outputs": [],
   "source": [
    "import numpy as np\n",
    "import matplotlib.pyplot as plt\n",
    "import rl_class\n"
   ]
  },
  {
   "cell_type": "code",
   "execution_count": 2,
   "metadata": {},
   "outputs": [],
   "source": [
    "loop = 100\n",
    "test_a = rl_class.Agent(0.1)\n",
    "step = 1000\n",
    "average_reward=np.zeros(step)\n",
    "optimal_action=np.zeros(step)\n",
    "for i in range(loop):\n",
    "    average_reward_1 = []\n",
    "    optimal_action_1 = []\n",
    "    test_a.agent_reset()\n",
    "    while test_a.step < step:\n",
    "        test_a.update_state()\n",
    "        test_a.take_action()\n",
    "        average_reward_1=np.append(average_reward_1, test_a.get_average_reward())\n",
    "        optimal_action_1=np.append(optimal_action_1, test_a.get_optimal_action())\n",
    "    average_reward += np.array(average_reward_1)\n",
    "    optimal_action += np.array(optimal_action_1)\n",
    "average_reward /= loop\n",
    "optimal_action /= loop"
   ]
  },
  {
   "cell_type": "code",
   "execution_count": 3,
   "metadata": {},
   "outputs": [
    {
     "data": {
      "text/plain": [
       "[<matplotlib.lines.Line2D at 0x1077cb710>]"
      ]
     },
     "execution_count": 3,
     "metadata": {},
     "output_type": "execute_result"
    },
    {
     "data": {
      "image/png": "[encoded data removed]",
      "text/plain": [
       "<Figure size 432x288 with 1 Axes>"
      ]
     },
     "metadata": {
      "needs_background": "light"
     },
     "output_type": "display_data"
    }
   ],
   "source": [
    "plt.plot(np.arange(step),optimal_action)"
   ]
  },
  {
   "cell_type": "markdown",
   "metadata": {},
   "source": [
    "# Dynamic Programming"
   ]
  },
  {
   "cell_type": "markdown",
   "metadata": {},
   "source": [
    "## Grid World"
   ]
  },
  {
   "cell_type": "markdown",
   "metadata": {},
   "source": [
    "We ususally assume that the environment is finite MDP. We firstly make prediction by policy evaluation, then we use policy improvement to improve thr policy of agents. However, must we wait for the entire convergence of the state or can we make it short? We use value iteration in the last part of the [chapter 4](http://incompleteideas.net/book/the-book-2nd.html)."
   ]
  },
  {
   "cell_type": "markdown",
   "metadata": {},
   "source": [
    "For the policy evaluation:\n",
    "We iterate the state($V_s$) by k. We have known that the current state of s can relation with the next state $V_s'$, which is hard to calculate in the real world. \n",
    "$$v_{\\pi}(s)=\\sum_{a}{\\pi(a|s)}\\sum_{s',r}{p(s',r|s,a)}(r+\\gamma(v_{\\pi}(s')))$$    \n",
    "We use the iteration in the way below:\n",
    "We use $v_0(s)=0$\n",
    "$$v_{k+1}(s)=\\sum_{a}{\\pi(a|s)}\\sum_{s',r}{p(s',r|s,a)}(r+\\gamma(v_{k}(s')))$$    \n",
    "The policy iteration in the improvement:    \n",
    "$$\\pi'(s)=\\underset{a}{argmax} \\sum_{s',r}{p(s',r|s,a)}(r+\\gamma(v_{\\pi}(s')))$$   \n",
    "Then we have the value iteration:\n",
    "$$v_{k+1}(s)=\\underset{a}max\\sum_{s',r}{p(s',r|s,a)}(r+\\gamma(v_{k}(s')))$$ "
   ]
  },
  {
   "cell_type": "code",
   "execution_count": 6,
   "metadata": {},
   "outputs": [
    {
     "name": "stdout",
     "output_type": "stream",
     "text": [
      "K= 0\n",
      "[[0. 0. 0. 0.]\n",
      " [0. 0. 0. 0.]\n",
      " [0. 0. 0. 0.]\n",
      " [0. 0. 0. 0.]]\n",
      "K= 1\n",
      "[[ 0. -1. -1. -1.]\n",
      " [-1. -1. -1. -1.]\n",
      " [-1. -1. -1. -1.]\n",
      " [-1. -1. -1.  0.]]\n",
      "K= 2\n",
      "[[ 0.   -1.75 -2.   -2.  ]\n",
      " [-1.75 -2.   -2.   -2.  ]\n",
      " [-2.   -2.   -2.   -1.75]\n",
      " [-2.   -2.   -1.75  0.  ]]\n",
      "K= 3\n",
      "[[ 0.   -2.44 -2.94 -3.  ]\n",
      " [-2.44 -2.88 -3.   -2.94]\n",
      " [-2.94 -3.   -2.88 -2.44]\n",
      " [-3.   -2.94 -2.44  0.  ]]\n",
      "K= 4\n",
      "[[ 0.   -3.06 -3.84 -3.97]\n",
      " [-3.06 -3.72 -3.91 -3.84]\n",
      " [-3.84 -3.91 -3.72 -3.06]\n",
      " [-3.97 -3.84 -3.06  0.  ]]\n",
      "K= 5\n",
      "[[ 0.   -3.66 -4.7  -4.9 ]\n",
      " [-3.66 -4.49 -4.78 -4.7 ]\n",
      " [-4.7  -4.78 -4.49 -3.66]\n",
      " [-4.9  -4.7  -3.66  0.  ]]\n",
      "K= 6\n",
      "[[ 0.   -4.21 -5.51 -5.8 ]\n",
      " [-4.21 -5.22 -5.6  -5.51]\n",
      " [-5.51 -5.6  -5.22 -4.21]\n",
      " [-5.8  -5.51 -4.21  0.  ]]\n",
      "K= 7\n",
      "[[ 0.   -4.73 -6.28 -6.65]\n",
      " [-4.74 -5.9  -6.36 -6.28]\n",
      " [-6.28 -6.36 -5.9  -4.73]\n",
      " [-6.66 -6.28 -4.73  0.  ]]\n",
      "K= 8\n",
      "[[ 0.   -5.23 -7.   -7.47]\n",
      " [-5.23 -6.55 -7.09 -7.  ]\n",
      " [-7.01 -7.09 -6.54 -5.23]\n",
      " [-7.47 -7.01 -5.23  0.  ]]\n",
      "K= 9\n",
      "[[ 0.   -5.7  -7.7  -8.24]\n",
      " [-5.7  -7.16 -7.77 -7.7 ]\n",
      " [-7.7  -7.78 -7.16 -5.69]\n",
      " [-8.24 -7.7  -5.7   0.  ]]\n",
      "K= 10\n",
      "[[ 0.   -6.14 -8.35 -8.97]\n",
      " [-6.14 -7.74 -8.43 -8.35]\n",
      " [-8.36 -8.43 -7.74 -6.14]\n",
      " [-8.97 -8.36 -6.14  0.  ]]\n",
      "K= 11\n",
      "[[ 0.   -6.56 -8.97 -9.66]\n",
      " [-6.56 -8.28 -9.04 -8.97]\n",
      " [-8.98 -9.05 -8.28 -6.56]\n",
      " [-9.66 -8.98 -6.56  0.  ]]\n",
      "K= 12\n",
      "[[  0.    -6.95  -9.56 -10.32]\n",
      " [ -6.95  -8.8   -9.62  -9.56]\n",
      " [ -9.56  -9.63  -8.8   -6.95]\n",
      " [-10.32  -9.56  -6.96   0.  ]]\n",
      "K= 13\n",
      "[[  0.    -7.33 -10.11 -10.94]\n",
      " [ -7.33  -9.29 -10.18 -10.11]\n",
      " [-10.12 -10.18  -9.29  -7.33]\n",
      " [-10.94 -10.12  -7.33   0.  ]]\n",
      "K= 14\n",
      "[[  0.    -7.68 -10.64 -11.52]\n",
      " [ -7.68  -9.75 -10.7  -10.64]\n",
      " [-10.64 -10.7   -9.75  -7.68]\n",
      " [-11.53 -10.64  -7.68   0.  ]]\n",
      "K= 15\n",
      "[[  0.    -8.02 -11.14 -12.08]\n",
      " [ -8.02 -10.19 -11.2  -11.14]\n",
      " [-11.14 -11.2  -10.19  -8.02]\n",
      " [-12.08 -11.14  -8.02   0.  ]]\n",
      "K= 16\n",
      "[[  0.    -8.34 -11.61 -12.61]\n",
      " [ -8.34 -10.61 -11.66 -11.61]\n",
      " [-11.61 -11.66 -10.61  -8.34]\n",
      " [-12.61 -11.61  -8.34   0.  ]]\n",
      "K= 17\n",
      "[[  0.    -8.64 -12.06 -13.11]\n",
      " [ -8.64 -11.   -12.11 -12.06]\n",
      " [-12.06 -12.11 -11.    -8.64]\n",
      " [-13.11 -12.06  -8.64   0.  ]]\n",
      "K= 18\n",
      "[[  0.    -8.93 -12.48 -13.58]\n",
      " [ -8.93 -11.38 -12.53 -12.48]\n",
      " [-12.48 -12.53 -11.38  -8.93]\n",
      " [-13.58 -12.48  -8.93   0.  ]]\n",
      "K= 19\n",
      "[[  0.    -9.2  -12.88 -14.03]\n",
      " [ -9.2  -11.73 -12.93 -12.88]\n",
      " [-12.88 -12.93 -11.73  -9.2 ]\n",
      " [-14.03 -12.88  -9.2    0.  ]]\n",
      "K= 20\n",
      "[[  0.    -9.45 -13.26 -14.46]\n",
      " [ -9.45 -12.07 -13.3  -13.26]\n",
      " [-13.26 -13.31 -12.06  -9.45]\n",
      " [-14.46 -13.26  -9.45   0.  ]]\n",
      "K= 21\n",
      "[[  0.    -9.7  -13.62 -14.86]\n",
      " [ -9.7  -12.38 -13.66 -13.62]\n",
      " [-13.62 -13.66 -12.38  -9.69]\n",
      " [-14.86 -13.62  -9.69   0.  ]]\n",
      "K= 22\n",
      "[[  0.    -9.93 -13.96 -15.24]\n",
      " [ -9.93 -12.68 -14.   -13.96]\n",
      " [-13.96 -14.   -12.68  -9.92]\n",
      " [-15.24 -13.96  -9.92   0.  ]]\n",
      "K= 23\n",
      "[[  0.   -10.14 -14.28 -15.6 ]\n",
      " [-10.14 -12.96 -14.32 -14.28]\n",
      " [-14.28 -14.32 -12.96 -10.14]\n",
      " [-15.6  -14.28 -10.14   0.  ]]\n",
      "K= 24\n",
      "[[  0.   -10.34 -14.58 -15.94]\n",
      " [-10.34 -13.23 -14.62 -14.58]\n",
      " [-14.58 -14.62 -13.23 -10.34]\n",
      " [-15.94 -14.58 -10.34   0.  ]]\n",
      "K= 25\n",
      "[[  0.   -10.54 -14.87 -16.26]\n",
      " [-10.54 -13.48 -14.9  -14.87]\n",
      " [-14.87 -14.9  -13.48 -10.54]\n",
      " [-16.26 -14.87 -10.54   0.  ]]\n",
      "K= 26\n",
      "[[  0.   -10.72 -15.14 -16.57]\n",
      " [-10.72 -13.72 -15.18 -15.14]\n",
      " [-15.14 -15.18 -13.72 -10.72]\n",
      " [-16.57 -15.14 -10.72   0.  ]]\n",
      "K= 27\n",
      "[[  0.   -10.9  -15.4  -16.86]\n",
      " [-10.9  -13.95 -15.43 -15.4 ]\n",
      " [-15.4  -15.43 -13.95 -10.9 ]\n",
      " [-16.86 -15.4  -10.9    0.  ]]\n",
      "K= 28\n",
      "[[  0.   -11.06 -15.65 -17.13]\n",
      " [-11.06 -14.16 -15.68 -15.65]\n",
      " [-15.65 -15.68 -14.16 -11.06]\n",
      " [-17.13 -15.65 -11.06   0.  ]]\n",
      "K= 29\n",
      "[[  0.   -11.22 -15.88 -17.39]\n",
      " [-11.22 -14.37 -15.9  -15.88]\n",
      " [-15.88 -15.9  -14.37 -11.22]\n",
      " [-17.39 -15.88 -11.22   0.  ]]\n",
      "K= 30\n",
      "[[  0.   -11.37 -16.1  -17.64]\n",
      " [-11.37 -14.56 -16.12 -16.1 ]\n",
      " [-16.1  -16.12 -14.56 -11.37]\n",
      " [-17.64 -16.1  -11.37   0.  ]]\n",
      "K= 31\n",
      "[[  0.   -11.51 -16.31 -17.87]\n",
      " [-11.51 -14.74 -16.33 -16.31]\n",
      " [-16.31 -16.33 -14.74 -11.51]\n",
      " [-17.87 -16.31 -11.51   0.  ]]\n",
      "K= 32\n",
      "[[  0.   -11.64 -16.5  -18.09]\n",
      " [-11.64 -14.92 -16.52 -16.5 ]\n",
      " [-16.5  -16.52 -14.92 -11.64]\n",
      " [-18.09 -16.5  -11.64   0.  ]]\n",
      "K= 33\n",
      "[[  0.   -11.76 -16.69 -18.3 ]\n",
      " [-11.76 -15.08 -16.71 -16.69]\n",
      " [-16.69 -16.71 -15.08 -11.76]\n",
      " [-18.3  -16.69 -11.76   0.  ]]\n",
      "K= 34\n",
      "[[  0.   -11.88 -16.87 -18.5 ]\n",
      " [-11.88 -15.24 -16.88 -16.87]\n",
      " [-16.86 -16.88 -15.24 -11.88]\n",
      " [-18.5  -16.86 -11.88   0.  ]]\n",
      "K= 35\n",
      "[[  0.   -12.   -17.03 -18.69]\n",
      " [-12.   -15.38 -17.06 -17.03]\n",
      " [-17.03 -17.05 -15.38 -12.  ]\n",
      " [-18.68 -17.03 -12.     0.  ]]\n",
      "K= 36\n",
      "[[  0.   -12.1  -17.2  -18.86]\n",
      " [-12.1  -15.53 -17.21 -17.2 ]\n",
      " [-17.19 -17.21 -15.53 -12.1 ]\n",
      " [-18.86 -17.19 -12.1    0.  ]]\n",
      "K= 37\n",
      "[[  0.   -12.21 -17.34 -19.03]\n",
      " [-12.2  -15.66 -17.37 -17.34]\n",
      " [-17.34 -17.36 -15.66 -12.21]\n",
      " [-19.02 -17.34 -12.21   0.  ]]\n",
      "K= 38\n",
      "[[  0.   -12.3  -17.49 -19.19]\n",
      " [-12.3  -15.78 -17.5  -17.49]\n",
      " [-17.48 -17.5  -15.79 -12.3 ]\n",
      " [-19.18 -17.48 -12.3    0.  ]]\n",
      "K= 39\n",
      "[[  0.   -12.39 -17.62 -19.34]\n",
      " [-12.39 -15.9  -17.64 -17.62]\n",
      " [-17.62 -17.63 -15.9  -12.4 ]\n",
      " [-19.33 -17.62 -12.39   0.  ]]\n",
      "K= 40\n",
      "[[  0.   -12.48 -17.75 -19.48]\n",
      " [-12.48 -16.01 -17.76 -17.75]\n",
      " [-17.74 -17.76 -16.02 -12.48]\n",
      " [-19.48 -17.74 -12.48   0.  ]]\n",
      "K= 41\n",
      "[[  0.   -12.56 -17.87 -19.62]\n",
      " [-12.56 -16.12 -17.88 -17.87]\n",
      " [-17.86 -17.88 -16.12 -12.56]\n",
      " [-19.61 -17.87 -12.56   0.  ]]\n",
      "K= 42\n",
      "[[  0.   -12.64 -17.98 -19.74]\n",
      " [-12.64 -16.22 -18.   -17.98]\n",
      " [-17.98 -17.99 -16.22 -12.64]\n",
      " [-19.74 -17.98 -12.64   0.  ]]\n",
      "K= 43\n",
      "[[  0.   -12.71 -18.09 -19.86]\n",
      " [-12.71 -16.32 -18.1  -18.09]\n",
      " [-18.09 -18.1  -16.32 -12.71]\n",
      " [-19.86 -18.09 -12.71   0.  ]]\n",
      "K= 44\n",
      "[[  0.   -12.78 -18.19 -19.98]\n",
      " [-12.78 -16.4  -18.2  -18.19]\n",
      " [-18.19 -18.21 -16.4  -12.78]\n",
      " [-19.98 -18.19 -12.78   0.  ]]\n",
      "K= 45\n",
      "[[  0.   -12.84 -18.29 -20.08]\n",
      " [-12.84 -16.49 -18.3  -18.29]\n",
      " [-18.29 -18.29 -16.49 -12.84]\n",
      " [-20.08 -18.29 -12.84   0.  ]]\n",
      "K= 46\n",
      "[[  0.   -12.9  -18.38 -20.18]\n",
      " [-12.9  -16.57 -18.39 -18.38]\n",
      " [-18.38 -18.39 -16.57 -12.9 ]\n",
      " [-20.18 -18.38 -12.9    0.  ]]\n",
      "K= 47\n",
      "[[  0.   -12.96 -18.46 -20.28]\n",
      " [-12.96 -16.64 -18.48 -18.46]\n",
      " [-18.46 -18.47 -16.64 -12.96]\n",
      " [-20.28 -18.46 -12.96   0.  ]]\n",
      "The evaluation converges at last!\n"
     ]
    }
   ],
   "source": [
    "gridworld = rl_class.GridWorld_DP()\n",
    "delta = 999\n",
    "threshold = 0.1\n",
    "K=0\n",
    "while delta > threshold:\n",
    "    delta = 0\n",
    "    V = gridworld.get_Vs()\n",
    "    print(\"K=\",K)\n",
    "    print(np.reshape(V,(4,4)))\n",
    "    next_v = gridworld.policy_evaluation()\n",
    "    K+=1\n",
    "    gridworld.set_vs(next_v)\n",
    "    delta = max([delta,np.max(np.abs(next_v-V))])\n",
    "print(\"The evaluation converges at last!\")"
   ]
  },
  {
   "cell_type": "markdown",
   "metadata": {},
   "source": [
    "## policy improvement"
   ]
  },
  {
   "cell_type": "markdown",
   "metadata": {},
   "source": []
  },
  {
   "cell_type": "code",
   "execution_count": null,
   "metadata": {},
   "outputs": [],
   "source": []
  },
  {
   "cell_type": "code",
   "execution_count": 5,
   "metadata": {},
   "outputs": [
    {
     "name": "stdout",
     "output_type": "stream",
     "text": [
      "DIRECTION IN STATE 9: ['UP' 'RIGHT']\n",
      "[[ 0. -1. -2. -3.]\n",
      " [-1. -2. -3. -2.]\n",
      " [-2. -3. -2. -1.]\n",
      " [-3. -2. -1.  0.]]\n",
      "The evaluation converges at last!\n"
     ]
    }
   ],
   "source": [
    "Direction = np.array(['UP','RIGHT','DOWN','LEFT'])\n",
    "gridworld = rl_class.GridWorld_DP()\n",
    "delta = 999\n",
    "threshold = 0.01\n",
    "K=0\n",
    "old_action = gridworld.get_pis()\n",
    "new_action = np.array(old_action)+1\n",
    "while np.sum(old_action - new_action):\n",
    "    # policy evaluation\n",
    "    while delta > threshold:\n",
    "        delta = 0\n",
    "        V = gridworld.get_Vs()\n",
    "        # print(\"K=\",K)\n",
    "        # print(np.reshape(V,(4,4)))\n",
    "        next_v = gridworld.policy_evaluation()\n",
    "        gridworld.policy_improvement()\n",
    "\n",
    "        K+=1\n",
    "        gridworld.set_vs(next_v)\n",
    "        delta = max([delta,np.max(np.abs(next_v-V))])\n",
    "\n",
    "    # policy improvement\n",
    "\n",
    "    old_action = gridworld.get_pis()\n",
    "    gridworld.policy_improvement()\n",
    "    new_action = gridworld.get_pis()\n",
    "\n",
    "    # focus on the state 9\n",
    "    print(\"DIRECTION IN STATE 9:\",Direction[gridworld.Policy[9]!=0])\n",
    "\n",
    "\n",
    "print(np.reshape(gridworld.get_Vs(),(4,4)))\n",
    "print(\"The evaluation converges at last!\")"
   ]
  },
  {
   "cell_type": "markdown",
   "metadata": {},
   "source": [
    "## Value iteration"
   ]
  },
  {
   "cell_type": "code",
   "execution_count": null,
   "metadata": {},
   "outputs": [],
   "source": []
  }
 ],
 "metadata": {
  "kernelspec": {
   "display_name": "Python 3",
   "language": "python",
   "name": "python3"
  },
  "language_info": {
   "codemirror_mode": {
    "name": "ipython",
    "version": 3
   },
   "file_extension": ".py",
   "mimetype": "text/x-python",
   "name": "python",
   "nbconvert_exporter": "python",
   "pygments_lexer": "ipython3",
   "version": "3.7.0"
  }
 },
 "nbformat": 4,
 "nbformat_minor": 2
}

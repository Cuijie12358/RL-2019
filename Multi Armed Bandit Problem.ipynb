{
 "cells": [
  {
   "cell_type": "markdown",
   "metadata": {},
   "source": [
    "# Multi Armed Bandit Problem"
   ]
  },
  {
   "cell_type": "markdown",
   "metadata": {},
   "source": [
    "The detailed explanation of this problem can been seen in the charpter 2 of [Reinforcement Learning: An Introduction (2nd edition)](http://incompleteideas.net/book/the-book-2nd.html)."
   ]
  },
  {
   "cell_type": "markdown",
   "metadata": {},
   "source": [
    "## Some definitions about variables "
   ]
  },
  {
   "cell_type": "markdown",
   "metadata": {},
   "source": [
    "### Action-value Methods\n",
    "Expected reward of selecting $\\textbf{a}$ as the action:   \n",
    "$$q_*(a)=E[R_t\\mid A_t=a]$$    \n",
    "The value of action $\\textbf{a}$ in the step t:    \n",
    "$$Q_t(a)=\\frac{\\sum_{i=1}^{t-1}{R_iI_{A_i=a}}}{\\sum_{i=1}^{t-1}{I_{A_i=a}}}=\\frac{\\text{sum of the rewards when taken $\\textbf{a}$ prior to t}}{\\text{sum of times taken $\\textbf{a}$ prior to t}}$$     \n",
    "$$\\begin{equation}\n",
    "I_{A_i=a}=\\begin{cases}\n",
    "1,&\\text{if taken $\\textbf{a}$ in step i} \\cr 0,&\\text{else}\n",
    "\\end{cases}\n",
    "\\end{equation}$$\n"
   ]
  },
  {
   "cell_type": "markdown",
   "metadata": {},
   "source": [
    "### $\\epsilon$-Greedy Action Selection\n",
    "We want to maximize the $Q_t(a)$ because when step t goes to infinity, the value of action $\\textbf{a}$ will be close to the expexted reward.    \n",
    "Greedy action selection:\n",
    "$$A_t=A_t^*=\\underset{a}{argmax{Q_t(a)}}$$\n",
    "$\\epsilon$-Greedy Action Selection:   \n",
    "$$\\begin{equation}\n",
    "A_{t}=\\begin{cases}\n",
    "A_t^*,&\\text{with probability $1-\\epsilon$} \\\\ \\text{random action},&\\epsilon\n",
    "\\end{cases}\n",
    "\\end{equation}$$\n",
    "\n"
   ]
  },
  {
   "cell_type": "markdown",
   "metadata": {},
   "source": [
    "### 10-Armed Bandit Testbed\n",
    "We set the environment and the agent for this test."
   ]
  },
  {
   "cell_type": "code",
   "execution_count": 7,
   "metadata": {},
   "outputs": [],
   "source": [
    "import numpy as np\n",
    "import matplotlib.pyplot as plt\n",
    "import rl_class\n"
   ]
  },
  {
   "cell_type": "code",
   "execution_count": 8,
   "metadata": {},
   "outputs": [],
   "source": [
    "loop = 100\n",
    "test_a = rl_class.Agent(0.1)\n",
    "step = 1000\n",
    "average_reward=np.zeros(step)\n",
    "optimal_action=np.zeros(step)\n",
    "for i in range(loop):\n",
    "    average_reward_1 = []\n",
    "    optimal_action_1 = []\n",
    "    test_a.agent_reset()\n",
    "    while test_a.step < step:\n",
    "        test_a.update_state()\n",
    "        test_a.take_action()\n",
    "        average_reward_1=np.append(average_reward_1, test_a.get_average_reward())\n",
    "        optimal_action_1=np.append(optimal_action_1, test_a.get_optimal_action())\n",
    "    average_reward += np.array(average_reward_1)\n",
    "    optimal_action += np.array(optimal_action_1)\n",
    "average_reward /= loop\n",
    "optimal_action /= loop"
   ]
  },
  {
   "cell_type": "code",
   "execution_count": 9,
   "metadata": {},
   "outputs": [
    {
     "data": {
      "text/plain": [
       "[<matplotlib.lines.Line2D at 0x114397eb8>]"
      ]
     },
     "execution_count": 9,
     "metadata": {},
     "output_type": "execute_result"
    },
    {
     "data": {
      "image/png": "[encoded data removed]",
      "text/plain": [
       "<Figure size 432x288 with 1 Axes>"
      ]
     },
     "metadata": {
      "needs_background": "light"
     },
     "output_type": "display_data"
    }
   ],
   "source": [
    "plt.plot(np.arange(step),optimal_action)"
   ]
  },
  {
   "cell_type": "code",
   "execution_count": null,
   "metadata": {},
   "outputs": [],
   "source": []
  },
  {
   "cell_type": "code",
   "execution_count": null,
   "metadata": {},
   "outputs": [],
   "source": []
  },
  {
   "cell_type": "code",
   "execution_count": null,
   "metadata": {},
   "outputs": [],
   "source": []
  },
  {
   "cell_type": "code",
   "execution_count": null,
   "metadata": {},
   "outputs": [],
   "source": []
  },
  {
   "cell_type": "code",
   "execution_count": null,
   "metadata": {},
   "outputs": [],
   "source": []
  }
 ],
 "metadata": {
  "kernelspec": {
   "display_name": "Python 3",
   "language": "python",
   "name": "python3"
  },
  "language_info": {
   "codemirror_mode": {
    "name": "ipython",
    "version": 3
   },
   "file_extension": ".py",
   "mimetype": "text/x-python",
   "name": "python",
   "nbconvert_exporter": "python",
   "pygments_lexer": "ipython3",
   "version": "3.7.0"
  }
 },
 "nbformat": 4,
 "nbformat_minor": 2
}

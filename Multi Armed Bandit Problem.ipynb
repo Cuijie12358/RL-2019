{
 "cells": [
  {
   "cell_type": "markdown",
   "metadata": {},
   "source": [
    "# Multi Armed Bandit Problem"
   ]
  },
  {
   "cell_type": "markdown",
   "metadata": {},
   "source": [
    "The detailed explanation of this problem can been seen in the charpter 2 of [Reinforcement Learning: An Introduction (2nd edition)](http://incompleteideas.net/book/the-book-2nd.html)."
   ]
  },
  {
   "cell_type": "markdown",
   "metadata": {},
   "source": [
    "## Some definitions about variables "
   ]
  },
  {
   "cell_type": "markdown",
   "metadata": {},
   "source": [
    "### Action-value Methods\n",
    "Expected reward of selecting $\\textbf{a}$ as the action:   \n",
    "$$q_*(a)=E[R_t\\mid A_t=a]$$    \n",
    "The value of action $\\textbf{a}$ in the step t:    \n",
    "$$Q_t(a)=\\frac{\\sum_{i=1}^{t-1}{R_iI_{A_i=a}}}{\\sum_{i=1}^{t-1}{I_{A_i=a}}}=\\frac{\\text{sum of the rewards when taken $\\textbf{a}$ prior to t}}{\\text{sum of times taken $\\textbf{a}$ prior to t}}$$     \n",
    "$$\\begin{equation}\n",
    "I_{A_i=a}=\\begin{cases}\n",
    "1,&\\text{if taken $\\textbf{a}$ in step i} \\cr 0,&\\text{else}\n",
    "\\end{cases}\n",
    "\\end{equation}$$\n"
   ]
  },
  {
   "cell_type": "markdown",
   "metadata": {},
   "source": [
    "### $\\epsilon$-Greedy Action Selection\n",
    "We want to maximize the $Q_t(a)$ because when step t goes to infinity, the value of action $\\textbf{a}$ will be close to the expexted reward.    \n",
    "Greedy action selection:\n",
    "$$A_t=A_t^*=\\underset{a}{argmax{Q_t(a)}}$$\n",
    "$\\epsilon$-Greedy Action Selection:   \n",
    "$$\\begin{equation}\n",
    "A_{t}=\\begin{cases}\n",
    "A_t^*,&\\text{with probability $1-\\epsilon$} \\\\ \\text{random action},&\\epsilon\n",
    "\\end{cases}\n",
    "\\end{equation}$$\n",
    "\n"
   ]
  },
  {
   "cell_type": "markdown",
   "metadata": {},
   "source": [
    "### 10-Armed Bandit Testbed\n",
    "We set the environment and the agent for this test."
   ]
  },
  {
   "cell_type": "code",
   "execution_count": 43,
   "metadata": {},
   "outputs": [],
   "source": [
    "import numpy as np\n",
    "import matplotlib.pyplot as plt\n",
    "\n",
    "class Multi10BanditEnv:\n",
    "    \"\"\"10-Armed Bandit with their reward distribution\"\"\"\n",
    "    mu_arms = [0.2, -0.6, 1.5, 0.6, 1.2, -1.6, -0.2, -1.2, 0.7, -0.7]\n",
    "    scale = 3\n",
    "\n",
    "    def __init__(self):\n",
    "        return None\n",
    "\n",
    "    def get_reward(self, action):\n",
    "        reward = self.mu_arms[action - 1] + self.scale * np.random.rand()\n",
    "        return reward\n",
    "\n",
    "    def get_optimal_arm(self):\n",
    "        return np.argmax(self.mu_arms) + 1\n",
    "\n",
    "\n",
    "class Agent:\n",
    "    \"\"\"Setting parameters for an agent\"\"\"\n",
    "    Q_a = 10 * np.ones(10)\n",
    "    A = np.zeros(10)\n",
    "    step = 0\n",
    "    reward = 0\n",
    "\n",
    "    def __init__(self, epsilon=0.1):\n",
    "        self.env = Multi10BanditEnv()\n",
    "        self.epsilon = epsilon\n",
    "        self.action = np.random.randint(10) + 1\n",
    "\n",
    "    def update_state(self):\n",
    "        self.step += 1\n",
    "        self.reward = self.env.get_reward(self.action)\n",
    "        sum_r = self.A[self.action - 1] * self.Q_a[self.action - 1] + self.reward\n",
    "        self.A[self.action - 1] += 1\n",
    "        self.Q_a[self.action - 1] = sum_r / self.A[self.action - 1]\n",
    "\n",
    "    def take_action(self):\n",
    "        if np.random.rand() < self.epsilon:\n",
    "            self.action = np.random.randint(10) + 1\n",
    "        else:\n",
    "            self.action = np.argmax(self.Q_a) + 1\n",
    "\n",
    "    def get_average_reward(self):\n",
    "        return np.dot(self.Q_a, self.A) / self.step\n",
    "\n",
    "    def get_optimal_action(self):\n",
    "        optimal = self.env.get_optimal_arm()\n",
    "        return self.A[optimal - 1] / self.step\n",
    "\n",
    "    def agent_reset(self):\n",
    "        self.Q_a = 10 * np.ones(10)\n",
    "        self.A = np.zeros(10)\n",
    "        self.step = 0\n",
    "        self.reward = 0\n",
    "        self.action = np.random.randint(10) + 1\n"
   ]
  },
  {
   "cell_type": "code",
   "execution_count": 45,
   "metadata": {},
   "outputs": [],
   "source": [
    "loop = 100\n",
    "test_a = Agent(0.1)\n",
    "step = 1000\n",
    "average_reward=np.zeros(step)\n",
    "optimal_action=np.zeros(step)\n",
    "for i in range(loop):\n",
    "    average_reward_1 = []\n",
    "    optimal_action_1 = []\n",
    "    test_a.agent_reset()\n",
    "    while test_a.step < step:\n",
    "        test_a.update_state()\n",
    "        test_a.take_action()\n",
    "        average_reward_1=np.append(average_reward_1, test_a.get_average_reward())\n",
    "        optimal_action_1=np.append(optimal_action_1, test_a.get_optimal_action())\n",
    "    average_reward += np.array(average_reward_1)\n",
    "    optimal_action += np.array(optimal_action_1)\n",
    "average_reward /= loop\n",
    "optimal_action /= loop"
   ]
  },
  {
   "cell_type": "code",
   "execution_count": 46,
   "metadata": {},
   "outputs": [
    {
     "data": {
      "text/plain": [
       "[<matplotlib.lines.Line2D at 0x118587828>]"
      ]
     },
     "execution_count": 46,
     "metadata": {},
     "output_type": "execute_result"
    },
    {
     "data": {
      "image/png": "[encoded data removed]",
      "text/plain": [
       "<Figure size 432x288 with 1 Axes>"
      ]
     },
     "metadata": {
      "needs_background": "light"
     },
     "output_type": "display_data"
    }
   ],
   "source": [
    "plt.plot(np.arange(step),optimal_action)"
   ]
  },
  {
   "cell_type": "code",
   "execution_count": null,
   "metadata": {},
   "outputs": [],
   "source": []
  },
  {
   "cell_type": "code",
   "execution_count": null,
   "metadata": {},
   "outputs": [],
   "source": []
  },
  {
   "cell_type": "code",
   "execution_count": null,
   "metadata": {},
   "outputs": [],
   "source": []
  },
  {
   "cell_type": "code",
   "execution_count": null,
   "metadata": {},
   "outputs": [],
   "source": []
  },
  {
   "cell_type": "code",
   "execution_count": null,
   "metadata": {},
   "outputs": [],
   "source": []
  }
 ],
 "metadata": {
  "kernelspec": {
   "display_name": "Python 3",
   "language": "python",
   "name": "python3"
  },
  "language_info": {
   "codemirror_mode": {
    "name": "ipython",
    "version": 3
   },
   "file_extension": ".py",
   "mimetype": "text/x-python",
   "name": "python",
   "nbconvert_exporter": "python",
   "pygments_lexer": "ipython3",
   "version": "3.7.0"
  }
 },
 "nbformat": 4,
 "nbformat_minor": 2
}
